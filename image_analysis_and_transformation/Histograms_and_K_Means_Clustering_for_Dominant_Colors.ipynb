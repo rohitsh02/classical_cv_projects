{
  "nbformat": 4,
  "nbformat_minor": 0,
  "metadata": {
    "colab": {
      "provenance": []
    },
    "kernelspec": {
      "name": "python3",
      "display_name": "Python 3"
    },
    "language_info": {
      "name": "python"
    }
  },
  "cells": [
    {
      "cell_type": "markdown",
      "source": [
        "# **Histogram Representations**"
      ],
      "metadata": {
        "id": "Mwc1i0Z-B2Qn"
      }
    },
    {
      "cell_type": "code",
      "source": [
        "# Our Setup, Import Libaries, Create our Imshow Function and Download our Images\n",
        "import cv2\n",
        "import numpy as np\n",
        "from matplotlib import pyplot as plt\n",
        "\n",
        "# Define our imshow function\n",
        "def imshow(title = \"Image\", image = None, size = 8):\n",
        "    w, h = image.shape[0], image.shape[1]\n",
        "    aspect_ratio = w/h\n",
        "    plt.figure(figsize=(size * aspect_ratio,size))\n",
        "    plt.imshow(cv2.cvtColor(image, cv2.COLOR_BGR2RGB))\n",
        "    plt.title(title)\n",
        "    plt.show()"
      ],
      "metadata": {
        "id": "i217NH_bCFb-"
      },
      "execution_count": 1,
      "outputs": []
    },
    {
      "cell_type": "code",
      "source": [
        "# get image from github\n",
        "import requests\n",
        "\n",
        "# URL of the image in your GitHub repository\n",
        "image_url = \"https://raw.githubusercontent.com/rohitsh02/classical_cv_projects/main/image_processing/images/geo.png\"\n",
        "\n",
        "# Send a GET request to the image URL\n",
        "response = requests.get(image_url)\n",
        "\n",
        "# Save the image to a file in your Colab environment\n",
        "with open('geo.png', 'wb') as f:\n",
        "    f.write(response.content)"
      ],
      "metadata": {
        "id": "Rukm_gDbCGhm"
      },
      "execution_count": null,
      "outputs": []
    },
    {
      "cell_type": "code",
      "source": [
        "image = cv2.imread('images/input.jpg')\n",
        "imshow(\"Input\", image)\n",
        "\n",
        "# histogram = cv2.calcHist([image], [0], None, [256], [0, 256])\n",
        "\n",
        "# We plot a histogram, ravel() flatens our image array\n",
        "plt.hist(image.ravel(), 256, [0, 256])\n",
        "plt.show()\n",
        "\n",
        "# Viewing Separate Color Channels\n",
        "color = ('b', 'g', 'r')\n",
        "\n",
        "# We now separate the colors and plot each in the Histogram\n",
        "for i, col in enumerate(color):\n",
        "    histogram2 = cv2.calcHist([image], [i], None, [256], [0, 256])\n",
        "    plt.plot(histogram2, color = col)\n",
        "    plt.xlim([0,256])\n",
        "\n",
        "plt.show()"
      ],
      "metadata": {
        "id": "LxVxA9vbCGeD"
      },
      "execution_count": null,
      "outputs": []
    },
    {
      "cell_type": "code",
      "source": [],
      "metadata": {
        "id": "2_bJDPETCGa5"
      },
      "execution_count": null,
      "outputs": []
    },
    {
      "cell_type": "code",
      "source": [],
      "metadata": {
        "id": "O5O5pxeLCGXT"
      },
      "execution_count": null,
      "outputs": []
    }
  ]
}