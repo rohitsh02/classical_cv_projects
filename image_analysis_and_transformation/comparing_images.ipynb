{
  "nbformat": 4,
  "nbformat_minor": 0,
  "metadata": {
    "colab": {
      "provenance": []
    },
    "kernelspec": {
      "name": "python3",
      "display_name": "Python 3"
    },
    "language_info": {
      "name": "python"
    }
  },
  "cells": [
    {
      "cell_type": "markdown",
      "source": [
        "# **Comparing Images**\n",
        "\n",
        "1. Compare Images using Mean Squared Error (MSE)\n",
        "2. UCompare Images using Structual Similarity"
      ],
      "metadata": {
        "id": "7kIfhOEFGDL6"
      }
    },
    {
      "cell_type": "code",
      "source": [
        "# Our Setup, Import Libaries, Create our Imshow Function and Download our Images\n",
        "import cv2\n",
        "import numpy as np\n",
        "from matplotlib import pyplot as plt\n",
        "from skimage.metrics import structural_similarity\n",
        "\n",
        "# Define our imshow function\n",
        "def imshow(title = \"Image\", image = None, size = 8):\n",
        "    w, h = image.shape[0], image.shape[1]\n",
        "    aspect_ratio = w/h\n",
        "    plt.figure(figsize=(size * aspect_ratio,size))\n",
        "    plt.imshow(cv2.cvtColor(image, cv2.COLOR_BGR2RGB))\n",
        "    plt.title(title)\n",
        "    plt.show()"
      ],
      "metadata": {
        "id": "jE1gO6P9GHMU"
      },
      "execution_count": 1,
      "outputs": []
    },
    {
      "cell_type": "code",
      "source": [
        "# get image from github\n",
        "import requests\n",
        "\n",
        "# URL of the image in your GitHub repository\n",
        "image_url = \"https://raw.githubusercontent.com/rohitsh02/classical_cv_projects/main/image_processing/images/geo.png\"\n",
        "\n",
        "# Send a GET request to the image URL\n",
        "response = requests.get(image_url)\n",
        "\n",
        "# Save the image to a file in your Colab environment\n",
        "with open('geo.png', 'wb') as f:\n",
        "    f.write(response.content)"
      ],
      "metadata": {
        "id": "RNeWs8EfGTL7"
      },
      "execution_count": null,
      "outputs": []
    },
    {
      "cell_type": "code",
      "source": [
        "# get image from github\n",
        "import requests\n",
        "\n",
        "# URL of the image in your GitHub repository\n",
        "image_url = \"https://raw.githubusercontent.com/rohitsh02/classical_cv_projects/main/image_processing/images/geo.png\"\n",
        "\n",
        "# Send a GET request to the image URL\n",
        "response = requests.get(image_url)\n",
        "\n",
        "# Save the image to a file in your Colab environment\n",
        "with open('geo.png', 'wb') as f:\n",
        "    f.write(response.content)"
      ],
      "metadata": {
        "id": "gS4IwE0cGkDt"
      },
      "execution_count": null,
      "outputs": []
    }
  ]
}